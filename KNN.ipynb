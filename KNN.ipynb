{
 "cells": [
  {
   "cell_type": "markdown",
   "metadata": {},
   "source": [
    "# KNN/K近邻算法原理"
   ]
  },
  {
   "cell_type": "markdown",
   "metadata": {
    "heading_collapsed": true
   },
   "source": [
    "## 问题"
   ]
  },
  {
   "cell_type": "raw",
   "metadata": {
    "hidden": true
   },
   "source": [
    "一家酒吧只卖两种红酒，一种是「赤霞珠」，一种是「黑皮诺」。桌面放着十杯红酒，每杯略不相同，前五杯属于「赤霞珠」，后五杯属于「黑皮诺」。\n",
    "【问题】现在老板新倒一杯酒，属于哪一类的？\n",
    "【Tips】你可以观察出红酒颜色的深度，品尝出酒精的浓度。"
   ]
  },
  {
   "cell_type": "raw",
   "metadata": {
    "hidden": true
   },
   "source": [
    "在反复观察和品尝后，你得到以下数据："
   ]
  },
  {
   "cell_type": "code",
   "execution_count": 3,
   "metadata": {
    "hidden": true
   },
   "outputs": [
    {
     "data": {
      "text/plain": [
       "{'颜色深度': [14.13, 13.2, 13.16, 14.27, 13.24, 12.07, 12.43, 11.79, 12.37, 12.04],\n",
       " '酒精浓度': [5.64, 4.28, 5.68, 4.8, 4.22, 2.76, 3.94, 3.1, 2.12, 2.6],\n",
       " '品种': [0, 0, 0, 0, 0, 1, 1, 1, 1, 1]}"
      ]
     },
     "execution_count": 3,
     "metadata": {},
     "output_type": "execute_result"
    }
   ],
   "source": [
    "rowdata = {'颜色深度': [14.13,13.2,13.16,14.27,13.24,12.07,12.43,11.79,12.37,12.04],\n",
    "           '酒精浓度': [5.64,4.28,5.68,4.80,4.22,2.76,3.94,3.1,2.12,2.6], \n",
    "           '品种': [0,0,0,0,0,1,1,1,1,1]}\n",
    "# 0 代表 “黑皮诺”，1 代表 “赤霞珠” \n",
    "rowdata"
   ]
  },
  {
   "cell_type": "code",
   "execution_count": 4,
   "metadata": {
    "hidden": true
   },
   "outputs": [],
   "source": [
    "import numpy as np\n",
    "import pandas as pd\n",
    "import matplotlib.pyplot as plt"
   ]
  },
  {
   "cell_type": "code",
   "execution_count": 5,
   "metadata": {
    "hidden": true
   },
   "outputs": [
    {
     "data": {
      "text/html": [
       "<div>\n",
       "<style scoped>\n",
       "    .dataframe tbody tr th:only-of-type {\n",
       "        vertical-align: middle;\n",
       "    }\n",
       "\n",
       "    .dataframe tbody tr th {\n",
       "        vertical-align: top;\n",
       "    }\n",
       "\n",
       "    .dataframe thead th {\n",
       "        text-align: right;\n",
       "    }\n",
       "</style>\n",
       "<table border=\"1\" class=\"dataframe\">\n",
       "  <thead>\n",
       "    <tr style=\"text-align: right;\">\n",
       "      <th></th>\n",
       "      <th>颜色深度</th>\n",
       "      <th>酒精浓度</th>\n",
       "      <th>品种</th>\n",
       "    </tr>\n",
       "  </thead>\n",
       "  <tbody>\n",
       "    <tr>\n",
       "      <th>0</th>\n",
       "      <td>14.13</td>\n",
       "      <td>5.64</td>\n",
       "      <td>0</td>\n",
       "    </tr>\n",
       "    <tr>\n",
       "      <th>1</th>\n",
       "      <td>13.20</td>\n",
       "      <td>4.28</td>\n",
       "      <td>0</td>\n",
       "    </tr>\n",
       "    <tr>\n",
       "      <th>2</th>\n",
       "      <td>13.16</td>\n",
       "      <td>5.68</td>\n",
       "      <td>0</td>\n",
       "    </tr>\n",
       "    <tr>\n",
       "      <th>3</th>\n",
       "      <td>14.27</td>\n",
       "      <td>4.80</td>\n",
       "      <td>0</td>\n",
       "    </tr>\n",
       "    <tr>\n",
       "      <th>4</th>\n",
       "      <td>13.24</td>\n",
       "      <td>4.22</td>\n",
       "      <td>0</td>\n",
       "    </tr>\n",
       "    <tr>\n",
       "      <th>5</th>\n",
       "      <td>12.07</td>\n",
       "      <td>2.76</td>\n",
       "      <td>1</td>\n",
       "    </tr>\n",
       "    <tr>\n",
       "      <th>6</th>\n",
       "      <td>12.43</td>\n",
       "      <td>3.94</td>\n",
       "      <td>1</td>\n",
       "    </tr>\n",
       "    <tr>\n",
       "      <th>7</th>\n",
       "      <td>11.79</td>\n",
       "      <td>3.10</td>\n",
       "      <td>1</td>\n",
       "    </tr>\n",
       "    <tr>\n",
       "      <th>8</th>\n",
       "      <td>12.37</td>\n",
       "      <td>2.12</td>\n",
       "      <td>1</td>\n",
       "    </tr>\n",
       "    <tr>\n",
       "      <th>9</th>\n",
       "      <td>12.04</td>\n",
       "      <td>2.60</td>\n",
       "      <td>1</td>\n",
       "    </tr>\n",
       "  </tbody>\n",
       "</table>\n",
       "</div>"
      ],
      "text/plain": [
       "    颜色深度  酒精浓度  品种\n",
       "0  14.13  5.64   0\n",
       "1  13.20  4.28   0\n",
       "2  13.16  5.68   0\n",
       "3  14.27  4.80   0\n",
       "4  13.24  4.22   0\n",
       "5  12.07  2.76   1\n",
       "6  12.43  3.94   1\n",
       "7  11.79  3.10   1\n",
       "8  12.37  2.12   1\n",
       "9  12.04  2.60   1"
      ]
     },
     "execution_count": 5,
     "metadata": {},
     "output_type": "execute_result"
    }
   ],
   "source": [
    "wine_data = pd.DataFrame(rowdata) \n",
    "\n",
    "wine_data"
   ]
  },
  {
   "cell_type": "markdown",
   "metadata": {
    "heading_collapsed": true
   },
   "source": [
    "## 可视化说明"
   ]
  },
  {
   "cell_type": "code",
   "execution_count": 27,
   "metadata": {
    "hidden": true
   },
   "outputs": [
    {
     "data": {
      "text/plain": [
       "<matplotlib.legend.Legend at 0x7ff1acbf14c0>"
      ]
     },
     "execution_count": 27,
     "metadata": {},
     "output_type": "execute_result"
    },
    {
     "data": {
      "image/png": "[encoded data removed]",
      "text/plain": [
       "<Figure size 400x400 with 1 Axes>"
      ]
     },
     "metadata": {},
     "output_type": "display_data"
    }
   ],
   "source": [
    "# 解决坐标轴刻度负号乱码 \n",
    "plt.rcParams['axes.unicode_minus'] = False\n",
    "\n",
    "# 解决中文乱码问题 \n",
    "plt.rcParams['font.sans-serif'] = ['FangSong_GB2312']\n",
    "\n",
    "# 使用ggplot风格绘制\n",
    "plt.style.use('ggplot')\n",
    "\n",
    "# 设置图形大小及清晰度\n",
    "plt.figure(figsize=(4,4),dpi=100)\n",
    "\n",
    "# 对wine_data进行数据可视化\n",
    "x = np.array(wine_data.iloc[:,0:2]) # 返回前两列，为特征（酒精的属性）\n",
    "y = np.array(wine_data.iloc[:,-1]) # 返回最后一列，为标签\n",
    "\n",
    "# 新倒的红酒的颜色深度和酒精浓度[12.3,4.1]\n",
    "new_data = np.array([12.01,4.1])\n",
    "\n",
    "plt.scatter(x[y==1,0],x[y==1,1],color='red',label='赤霞珠')\n",
    "plt.scatter(x[y==0,0],x[y==0,1],color='purple',label='黑皮诺')\n",
    "\n",
    "plt.scatter(new_data[0],new_data[1],color='yellow')\n",
    "\n",
    "plt.legend()"
   ]
  },
  {
   "cell_type": "raw",
   "metadata": {
    "hidden": true
   },
   "source": [
    "把原问题【新倒的一杯酒是属于赤霞珠，还是属于黑皮诺】转化为【黄点的距离问题】"
   ]
  },
  {
   "cell_type": "markdown",
   "metadata": {
    "heading_collapsed": true
   },
   "source": [
    "## 计算标记点到所有样本的距离"
   ]
  },
  {
   "cell_type": "code",
   "execution_count": 29,
   "metadata": {
    "hidden": true
   },
   "outputs": [
    {
     "data": {
      "text/plain": [
       "array([[14.13,  5.64],\n",
       "       [13.2 ,  4.28],\n",
       "       [13.16,  5.68],\n",
       "       [14.27,  4.8 ],\n",
       "       [13.24,  4.22],\n",
       "       [12.07,  2.76],\n",
       "       [12.43,  3.94],\n",
       "       [11.79,  3.1 ],\n",
       "       [12.37,  2.12],\n",
       "       [12.04,  2.6 ]])"
      ]
     },
     "execution_count": 29,
     "metadata": {},
     "output_type": "execute_result"
    }
   ],
   "source": [
    "# .values 转化为array数组\n",
    "data = wine_data.iloc[:,0:2].values\n",
    "data"
   ]
  },
  {
   "cell_type": "code",
   "execution_count": 9,
   "metadata": {
    "hidden": true
   },
   "outputs": [
    {
     "data": {
      "text/plain": [
       "array([[12.3,  4.1]])"
      ]
     },
     "execution_count": 9,
     "metadata": {},
     "output_type": "execute_result"
    }
   ],
   "source": [
    "# 转化为多维数组\n",
    "new_cup = np.array([[12.3,4.1]])\n",
    "new_cup"
   ]
  },
  {
   "cell_type": "code",
   "execution_count": 30,
   "metadata": {
    "hidden": true
   },
   "outputs": [
    {
     "data": {
      "text/plain": [
       "array([[3.3489, 2.3716],\n",
       "       [0.81  , 0.0324],\n",
       "       [0.7396, 2.4964],\n",
       "       [3.8809, 0.49  ],\n",
       "       [0.8836, 0.0144],\n",
       "       [0.0529, 1.7956],\n",
       "       [0.0169, 0.0256],\n",
       "       [0.2601, 1.    ],\n",
       "       [0.0049, 3.9204],\n",
       "       [0.0676, 2.25  ]])"
      ]
     },
     "execution_count": 30,
     "metadata": {},
     "output_type": "execute_result"
    }
   ],
   "source": [
    "# 求黄点到各点的距离\n",
    "(new_cup - data)**2"
   ]
  },
  {
   "cell_type": "markdown",
   "metadata": {
    "hidden": true
   },
   "source": [
    "二维距离计算公式\n",
    "$d=\\sqrt{(x_A-x_B)^2+(y_A-y_B)^2}$"
   ]
  },
  {
   "cell_type": "code",
   "execution_count": 32,
   "metadata": {
    "hidden": true
   },
   "outputs": [
    {
     "data": {
      "text/plain": [
       "array([3.3489, 0.81  , 0.7396, 3.8809, 0.8836, 0.0529, 0.0169, 0.2601,\n",
       "       0.0049, 0.0676])"
      ]
     },
     "execution_count": 32,
     "metadata": {},
     "output_type": "execute_result"
    }
   ],
   "source": [
    "# 第一列数值\n",
    "a = ((new_cup - data)**2)[:,0]\n",
    "a"
   ]
  },
  {
   "cell_type": "code",
   "execution_count": 33,
   "metadata": {
    "hidden": true
   },
   "outputs": [
    {
     "data": {
      "text/plain": [
       "array([2.3716, 0.0324, 2.4964, 0.49  , 0.0144, 1.7956, 0.0256, 1.    ,\n",
       "       3.9204, 2.25  ])"
      ]
     },
     "execution_count": 33,
     "metadata": {},
     "output_type": "execute_result"
    }
   ],
   "source": [
    "# 第二列数值\n",
    "b = ((new_cup - data)**2)[:,1]\n",
    "b"
   ]
  },
  {
   "cell_type": "code",
   "execution_count": 34,
   "metadata": {
    "hidden": true
   },
   "outputs": [
    {
     "data": {
      "text/plain": [
       "array([2.39175668, 0.91782351, 1.79888855, 2.09066975, 0.94762862,\n",
       "       1.35959553, 0.20615528, 1.12254176, 1.98123699, 1.52236658])"
      ]
     },
     "execution_count": 34,
     "metadata": {},
     "output_type": "execute_result"
    }
   ],
   "source": [
    "distance = np.sqrt(a+b)\n",
    "distance"
   ]
  },
  {
   "cell_type": "markdown",
   "metadata": {
    "heading_collapsed": true
   },
   "source": [
    "## 对Distanc进行排序"
   ]
  },
  {
   "cell_type": "code",
   "execution_count": 14,
   "metadata": {
    "hidden": true
   },
   "outputs": [
    {
     "data": {
      "text/plain": [
       "array([0.20615528, 0.91782351, 0.94762862, 1.12254176, 1.35959553,\n",
       "       1.52236658, 1.79888855, 1.98123699, 2.09066975, 2.39175668])"
      ]
     },
     "execution_count": 14,
     "metadata": {},
     "output_type": "execute_result"
    }
   ],
   "source": [
    "np.sort(distance)"
   ]
  },
  {
   "cell_type": "code",
   "execution_count": 15,
   "metadata": {
    "hidden": true
   },
   "outputs": [
    {
     "data": {
      "text/plain": [
       "array([6, 1, 4, 7, 5, 9, 2, 8, 3, 0])"
      ]
     },
     "execution_count": 15,
     "metadata": {},
     "output_type": "execute_result"
    }
   ],
   "source": [
    " np.argsort(distance) # 返回升序排序的索引值"
   ]
  },
  {
   "cell_type": "code",
   "execution_count": 16,
   "metadata": {
    "hidden": true
   },
   "outputs": [
    {
     "data": {
      "text/plain": [
       "array([6, 1, 4])"
      ]
     },
     "execution_count": 16,
     "metadata": {},
     "output_type": "execute_result"
    }
   ],
   "source": [
    "# 最近三个点的索引\n",
    "k3 = np.argsort(distance)[:3]\n",
    "k3"
   ]
  },
  {
   "cell_type": "code",
   "execution_count": 17,
   "metadata": {
    "hidden": true
   },
   "outputs": [
    {
     "data": {
      "text/plain": [
       "0    0\n",
       "1    0\n",
       "2    0\n",
       "3    0\n",
       "4    0\n",
       "5    1\n",
       "6    1\n",
       "7    1\n",
       "8    1\n",
       "9    1\n",
       "Name: 品种, dtype: int64"
      ]
     },
     "execution_count": 17,
     "metadata": {},
     "output_type": "execute_result"
    }
   ],
   "source": [
    "y = wine_data.品种\n",
    "y"
   ]
  },
  {
   "cell_type": "code",
   "execution_count": 18,
   "metadata": {
    "hidden": true
   },
   "outputs": [
    {
     "data": {
      "text/plain": [
       "[1, 0, 0]"
      ]
     },
     "execution_count": 18,
     "metadata": {},
     "output_type": "execute_result"
    }
   ],
   "source": [
    "# 返回三个点的类型，0 代表 “黑皮诺”，1 代表 “赤霞珠” \n",
    "[y[i] for i in k3]"
   ]
  },
  {
   "cell_type": "markdown",
   "metadata": {
    "heading_collapsed": true
   },
   "source": [
    "## 判断类别"
   ]
  },
  {
   "cell_type": "code",
   "execution_count": 20,
   "metadata": {
    "hidden": true
   },
   "outputs": [
    {
     "data": {
      "text/plain": [
       "0"
      ]
     },
     "execution_count": 20,
     "metadata": {},
     "output_type": "execute_result"
    }
   ],
   "source": [
    "# 判断得出为0，即黑皮诺\n",
    "pd.Series([y[i] for i in k3]).value_counts().idxmax()"
   ]
  },
  {
   "cell_type": "markdown",
   "metadata": {
    "heading_collapsed": true
   },
   "source": [
    "## 封装"
   ]
  },
  {
   "cell_type": "code",
   "execution_count": 37,
   "metadata": {
    "hidden": true
   },
   "outputs": [],
   "source": [
    "# 把以上过程封装为函数\n",
    "\n",
    "def KNN(x): # x是输入的点，返回类别\n",
    "    # 把10个训练数据提取到data中\n",
    "    data = wine_data.iloc[:,:2].values\n",
    "\n",
    "    # 新数据点与10个一维数组的欧式距离\n",
    "    # 数据点第一个特征与10个点的欧式距离\n",
    "    a = ((x - data)**2)[:,0]\n",
    "    # 数据点第二个特征与10个点的欧式距离\n",
    "    b = ((x - data)**2)[:,1]\n",
    "    # 得到数据点与10个点的欧式距离\n",
    "    distance = np.sqrt(a+b)\n",
    "    # 排序找出最近的K个点， K=3\n",
    "    k3 = np.argsort(distance)[:3]\n",
    "    # 判断类别 \n",
    "    y = wine_data.品种\n",
    "    #根据频数判断属于哪一类\n",
    "    return pd.Series([y[i] for i in k3]).value_counts().idxmax()"
   ]
  },
  {
   "cell_type": "code",
   "execution_count": 38,
   "metadata": {
    "hidden": true
   },
   "outputs": [
    {
     "data": {
      "text/plain": [
       "1"
      ]
     },
     "execution_count": 38,
     "metadata": {},
     "output_type": "execute_result"
    }
   ],
   "source": [
    "KNN([[12.01,4.1]])"
   ]
  },
  {
   "cell_type": "code",
   "execution_count": 44,
   "metadata": {
    "hidden": true
   },
   "outputs": [],
   "source": [
    "# 对上面函数进行优化，提供更多参数选择\n",
    "def New_KNN(new_data,dataSet,k):\n",
    "    '''\n",
    "    函数功能：KNN分类器\n",
    "    参数说明：\n",
    "    new_data:需要预测分类的数据集\n",
    "    dataSet:已知分类标签的数据集\n",
    "    k:k-近邻算法参数，选择举例最小的k个点\n",
    "    return:返回分类结果\n",
    "    '''\n",
    "    from math import sqrt\n",
    "    from collections import Counter\n",
    "    import numpy as np\n",
    "    import pandas as pd\n",
    "    \n",
    "    result = []\n",
    "    distance = [sqrt(np.sum((x - new_data)**2)) for x in np.array(dataSet.iloc[:,0:2])]\n",
    "    sort_dist = np.argsort(distance)\n",
    "    topk = [dataSet.iloc[:,-1][i] for i in sort_dist[:k]]\n",
    "    result.append(pd.Series(topk).value_counts().index[0])\n",
    "    \n",
    "    return result"
   ]
  },
  {
   "cell_type": "code",
   "execution_count": 45,
   "metadata": {
    "hidden": true
   },
   "outputs": [
    {
     "data": {
      "text/plain": [
       "[0]"
      ]
     },
     "execution_count": 45,
     "metadata": {},
     "output_type": "execute_result"
    }
   ],
   "source": [
    "new_data = np.array([13,4.9])\n",
    "k = 3\n",
    "New_KNN(new_data,wine_data,k)"
   ]
  },
  {
   "cell_type": "markdown",
   "metadata": {},
   "source": [
    "# 使用sklearn调用KNN"
   ]
  },
  {
   "cell_type": "markdown",
   "metadata": {
    "heading_collapsed": true
   },
   "source": [
    "## 代码示例"
   ]
  },
  {
   "cell_type": "raw",
   "metadata": {
    "hidden": true
   },
   "source": [
    "sklearn函数说明：\n",
    "fit():基于数据估算参数的任意对象，使用的参数是一个数据集(对应 X, 有监督算法还需要一个 y)，引导估算过程的任意其他参数称为超参数，必须被设置为实例变量。\n",
    "transform():使用估算器转换数据集，转换过程依赖于学习参数。可以使用便捷方式\n",
    "fit_transform():相当于先fit()再transform()\n",
    "predict():使用估算器预测新数据，返回包含预测结果的数据\n",
    "score():用于度量给定测试集的预测效果的好坏。(连续 y 使用 R 方,分类 y 使用准确率 accuracy)"
   ]
  },
  {
   "cell_type": "code",
   "execution_count": 8,
   "metadata": {
    "hidden": true
   },
   "outputs": [
    {
     "data": {
      "text/plain": [
       "array([0])"
      ]
     },
     "execution_count": 8,
     "metadata": {},
     "output_type": "execute_result"
    }
   ],
   "source": [
    "from sklearn.neighbors import KNeighborsClassifier\n",
    "# 0 代表 “黑皮诺”，1 代表 “赤霞珠”\n",
    "clf = KNeighborsClassifier(n_neighbors = 3)\n",
    "clf = clf.fit(wine_data.iloc[:,0:2], wine_data.iloc[:,-1]) \n",
    "result = clf.predict([[12.8,4.1]]) # 返回预测的标签\n",
    "result"
   ]
  },
  {
   "cell_type": "code",
   "execution_count": 9,
   "metadata": {
    "hidden": true
   },
   "outputs": [
    {
     "data": {
      "text/plain": [
       "1.0"
      ]
     },
     "execution_count": 9,
     "metadata": {},
     "output_type": "execute_result"
    }
   ],
   "source": [
    "# 对模型进行一个评估，接口score返回预测的准确率 \n",
    "score = clf.score([[12.8,4.1]],[0]) \n",
    "score"
   ]
  },
  {
   "cell_type": "code",
   "execution_count": 10,
   "metadata": {
    "hidden": true
   },
   "outputs": [
    {
     "data": {
      "text/plain": [
       "array([[0.66666667, 0.33333333]])"
      ]
     },
     "execution_count": 10,
     "metadata": {},
     "output_type": "execute_result"
    }
   ],
   "source": [
    "clf.predict_proba([[12.8,4.1]]) \n",
    "#输出数据[12.8,4.1]为标签0的概率(0.666...)，以及标签为1的概率(0.333...)"
   ]
  },
  {
   "cell_type": "markdown",
   "metadata": {},
   "source": [
    "## 案例：乳腺癌"
   ]
  },
  {
   "cell_type": "markdown",
   "metadata": {},
   "source": [
    "### 导入数据"
   ]
  },
  {
   "cell_type": "code",
   "execution_count": 46,
   "metadata": {},
   "outputs": [],
   "source": [
    "from sklearn.neighbors import KNeighborsClassifier\n",
    "from sklearn.datasets import load_breast_cancer\n",
    "from sklearn.model_selection import train_test_split"
   ]
  },
  {
   "cell_type": "code",
   "execution_count": 51,
   "metadata": {
    "scrolled": true
   },
   "outputs": [
    {
     "data": {
      "text/html": [
       "<div>\n",
       "<style scoped>\n",
       "    .dataframe tbody tr th:only-of-type {\n",
       "        vertical-align: middle;\n",
       "    }\n",
       "\n",
       "    .dataframe tbody tr th {\n",
       "        vertical-align: top;\n",
       "    }\n",
       "\n",
       "    .dataframe thead th {\n",
       "        text-align: right;\n",
       "    }\n",
       "</style>\n",
       "<table border=\"1\" class=\"dataframe\">\n",
       "  <thead>\n",
       "    <tr style=\"text-align: right;\">\n",
       "      <th></th>\n",
       "      <th>平均半径</th>\n",
       "      <th>平均纹理</th>\n",
       "      <th>平均周长</th>\n",
       "      <th>平均面积</th>\n",
       "      <th>平均光滑度</th>\n",
       "      <th>平均紧凑度</th>\n",
       "      <th>平均凹度</th>\n",
       "      <th>平均凹点</th>\n",
       "      <th>平均对称</th>\n",
       "      <th>平均分形维数</th>\n",
       "      <th>...</th>\n",
       "      <th>最差纹理</th>\n",
       "      <th>最差的边界</th>\n",
       "      <th>最差的区域</th>\n",
       "      <th>最差的平滑度</th>\n",
       "      <th>最差的紧凑性</th>\n",
       "      <th>最差的凹陷</th>\n",
       "      <th>最差的凹点</th>\n",
       "      <th>最差的对称性</th>\n",
       "      <th>最差的分形维数</th>\n",
       "      <th>患病否</th>\n",
       "    </tr>\n",
       "  </thead>\n",
       "  <tbody>\n",
       "    <tr>\n",
       "      <th>0</th>\n",
       "      <td>17.99</td>\n",
       "      <td>10.38</td>\n",
       "      <td>122.80</td>\n",
       "      <td>1001.0</td>\n",
       "      <td>0.11840</td>\n",
       "      <td>0.27760</td>\n",
       "      <td>0.3001</td>\n",
       "      <td>0.14710</td>\n",
       "      <td>0.2419</td>\n",
       "      <td>0.07871</td>\n",
       "      <td>...</td>\n",
       "      <td>17.33</td>\n",
       "      <td>184.60</td>\n",
       "      <td>2019.0</td>\n",
       "      <td>0.1622</td>\n",
       "      <td>0.6656</td>\n",
       "      <td>0.7119</td>\n",
       "      <td>0.2654</td>\n",
       "      <td>0.4601</td>\n",
       "      <td>0.11890</td>\n",
       "      <td>0.0</td>\n",
       "    </tr>\n",
       "    <tr>\n",
       "      <th>1</th>\n",
       "      <td>20.57</td>\n",
       "      <td>17.77</td>\n",
       "      <td>132.90</td>\n",
       "      <td>1326.0</td>\n",
       "      <td>0.08474</td>\n",
       "      <td>0.07864</td>\n",
       "      <td>0.0869</td>\n",
       "      <td>0.07017</td>\n",
       "      <td>0.1812</td>\n",
       "      <td>0.05667</td>\n",
       "      <td>...</td>\n",
       "      <td>23.41</td>\n",
       "      <td>158.80</td>\n",
       "      <td>1956.0</td>\n",
       "      <td>0.1238</td>\n",
       "      <td>0.1866</td>\n",
       "      <td>0.2416</td>\n",
       "      <td>0.1860</td>\n",
       "      <td>0.2750</td>\n",
       "      <td>0.08902</td>\n",
       "      <td>0.0</td>\n",
       "    </tr>\n",
       "    <tr>\n",
       "      <th>2</th>\n",
       "      <td>19.69</td>\n",
       "      <td>21.25</td>\n",
       "      <td>130.00</td>\n",
       "      <td>1203.0</td>\n",
       "      <td>0.10960</td>\n",
       "      <td>0.15990</td>\n",
       "      <td>0.1974</td>\n",
       "      <td>0.12790</td>\n",
       "      <td>0.2069</td>\n",
       "      <td>0.05999</td>\n",
       "      <td>...</td>\n",
       "      <td>25.53</td>\n",
       "      <td>152.50</td>\n",
       "      <td>1709.0</td>\n",
       "      <td>0.1444</td>\n",
       "      <td>0.4245</td>\n",
       "      <td>0.4504</td>\n",
       "      <td>0.2430</td>\n",
       "      <td>0.3613</td>\n",
       "      <td>0.08758</td>\n",
       "      <td>0.0</td>\n",
       "    </tr>\n",
       "    <tr>\n",
       "      <th>3</th>\n",
       "      <td>11.42</td>\n",
       "      <td>20.38</td>\n",
       "      <td>77.58</td>\n",
       "      <td>386.1</td>\n",
       "      <td>0.14250</td>\n",
       "      <td>0.28390</td>\n",
       "      <td>0.2414</td>\n",
       "      <td>0.10520</td>\n",
       "      <td>0.2597</td>\n",
       "      <td>0.09744</td>\n",
       "      <td>...</td>\n",
       "      <td>26.50</td>\n",
       "      <td>98.87</td>\n",
       "      <td>567.7</td>\n",
       "      <td>0.2098</td>\n",
       "      <td>0.8663</td>\n",
       "      <td>0.6869</td>\n",
       "      <td>0.2575</td>\n",
       "      <td>0.6638</td>\n",
       "      <td>0.17300</td>\n",
       "      <td>0.0</td>\n",
       "    </tr>\n",
       "    <tr>\n",
       "      <th>4</th>\n",
       "      <td>20.29</td>\n",
       "      <td>14.34</td>\n",
       "      <td>135.10</td>\n",
       "      <td>1297.0</td>\n",
       "      <td>0.10030</td>\n",
       "      <td>0.13280</td>\n",
       "      <td>0.1980</td>\n",
       "      <td>0.10430</td>\n",
       "      <td>0.1809</td>\n",
       "      <td>0.05883</td>\n",
       "      <td>...</td>\n",
       "      <td>16.67</td>\n",
       "      <td>152.20</td>\n",
       "      <td>1575.0</td>\n",
       "      <td>0.1374</td>\n",
       "      <td>0.2050</td>\n",
       "      <td>0.4000</td>\n",
       "      <td>0.1625</td>\n",
       "      <td>0.2364</td>\n",
       "      <td>0.07678</td>\n",
       "      <td>0.0</td>\n",
       "    </tr>\n",
       "  </tbody>\n",
       "</table>\n",
       "<p>5 rows × 31 columns</p>\n",
       "</div>"
      ],
      "text/plain": [
       "    平均半径   平均纹理    平均周长    平均面积    平均光滑度    平均紧凑度    平均凹度     平均凹点    平均对称  \\\n",
       "0  17.99  10.38  122.80  1001.0  0.11840  0.27760  0.3001  0.14710  0.2419   \n",
       "1  20.57  17.77  132.90  1326.0  0.08474  0.07864  0.0869  0.07017  0.1812   \n",
       "2  19.69  21.25  130.00  1203.0  0.10960  0.15990  0.1974  0.12790  0.2069   \n",
       "3  11.42  20.38   77.58   386.1  0.14250  0.28390  0.2414  0.10520  0.2597   \n",
       "4  20.29  14.34  135.10  1297.0  0.10030  0.13280  0.1980  0.10430  0.1809   \n",
       "\n",
       "    平均分形维数  ...   最差纹理   最差的边界   最差的区域  最差的平滑度  最差的紧凑性   最差的凹陷   最差的凹点  \\\n",
       "0  0.07871  ...  17.33  184.60  2019.0  0.1622  0.6656  0.7119  0.2654   \n",
       "1  0.05667  ...  23.41  158.80  1956.0  0.1238  0.1866  0.2416  0.1860   \n",
       "2  0.05999  ...  25.53  152.50  1709.0  0.1444  0.4245  0.4504  0.2430   \n",
       "3  0.09744  ...  26.50   98.87   567.7  0.2098  0.8663  0.6869  0.2575   \n",
       "4  0.05883  ...  16.67  152.20  1575.0  0.1374  0.2050  0.4000  0.1625   \n",
       "\n",
       "   最差的对称性  最差的分形维数  患病否  \n",
       "0  0.4601  0.11890  0.0  \n",
       "1  0.2750  0.08902  0.0  \n",
       "2  0.3613  0.08758  0.0  \n",
       "3  0.6638  0.17300  0.0  \n",
       "4  0.2364  0.07678  0.0  \n",
       "\n",
       "[5 rows x 31 columns]"
      ]
     },
     "execution_count": 51,
     "metadata": {},
     "output_type": "execute_result"
    }
   ],
   "source": [
    "import pandas as pd\n",
    "import numpy as np \n",
    "#读取数据集\n",
    "data = load_breast_cancer()\n",
    "\n",
    "#DateFrame格式显示\n",
    "X = data.data\n",
    "y = data.target\n",
    "name = ['平均半径','平均纹理','平均周长','平均面积',\n",
    "        '平均光滑度','平均紧凑度','平均凹度', \n",
    "        '平均凹点','平均对称','平均分形维数', \n",
    "        '半径误差','纹理误差','周长误差','面积误差', \n",
    "        '平滑度误差','紧凑度误差','凹度误差', '凹点误差',\n",
    "        '对称误差', '分形维数误差','最差半径','最差纹理', \n",
    "        '最差的边界','最差的区域','最差的平滑度', \n",
    "        '最差的紧凑性','最差的凹陷','最差的凹点', \n",
    "        '最差的对称性','最差的分形维数','患病否']\n",
    "\n",
    "data = np.concatenate((X,y.reshape(-1,1)),axis=1)\n",
    "table = pd.DataFrame(data=data,columns=name)\n",
    "table.head()"
   ]
  },
  {
   "cell_type": "markdown",
   "metadata": {},
   "source": [
    "### 划分测试集与训练集"
   ]
  },
  {
   "cell_type": "code",
   "execution_count": 25,
   "metadata": {},
   "outputs": [
    {
     "data": {
      "text/html": [
       "<div>\n",
       "<style scoped>\n",
       "    .dataframe tbody tr th:only-of-type {\n",
       "        vertical-align: middle;\n",
       "    }\n",
       "\n",
       "    .dataframe tbody tr th {\n",
       "        vertical-align: top;\n",
       "    }\n",
       "\n",
       "    .dataframe thead th {\n",
       "        text-align: right;\n",
       "    }\n",
       "</style>\n",
       "<table border=\"1\" class=\"dataframe\">\n",
       "  <thead>\n",
       "    <tr style=\"text-align: right;\">\n",
       "      <th></th>\n",
       "      <th>平均半径</th>\n",
       "      <th>平均纹理</th>\n",
       "      <th>平均周长</th>\n",
       "      <th>平均面积</th>\n",
       "      <th>平均光滑度</th>\n",
       "      <th>平均紧凑度</th>\n",
       "      <th>平均凹度</th>\n",
       "      <th>平均凹点</th>\n",
       "      <th>平均对称</th>\n",
       "      <th>平均分形维数</th>\n",
       "      <th>...</th>\n",
       "      <th>最差半径</th>\n",
       "      <th>最差纹理</th>\n",
       "      <th>最差的边界</th>\n",
       "      <th>最差的区域</th>\n",
       "      <th>最差的平滑度</th>\n",
       "      <th>最差的紧凑性</th>\n",
       "      <th>最差的凹陷</th>\n",
       "      <th>最差的凹点</th>\n",
       "      <th>最差的对称性</th>\n",
       "      <th>最差的分形维数</th>\n",
       "    </tr>\n",
       "  </thead>\n",
       "  <tbody>\n",
       "    <tr>\n",
       "      <th>0</th>\n",
       "      <td>17.99</td>\n",
       "      <td>10.38</td>\n",
       "      <td>122.80</td>\n",
       "      <td>1001.0</td>\n",
       "      <td>0.11840</td>\n",
       "      <td>0.27760</td>\n",
       "      <td>0.3001</td>\n",
       "      <td>0.14710</td>\n",
       "      <td>0.2419</td>\n",
       "      <td>0.07871</td>\n",
       "      <td>...</td>\n",
       "      <td>25.38</td>\n",
       "      <td>17.33</td>\n",
       "      <td>184.60</td>\n",
       "      <td>2019.0</td>\n",
       "      <td>0.1622</td>\n",
       "      <td>0.6656</td>\n",
       "      <td>0.7119</td>\n",
       "      <td>0.2654</td>\n",
       "      <td>0.4601</td>\n",
       "      <td>0.11890</td>\n",
       "    </tr>\n",
       "    <tr>\n",
       "      <th>1</th>\n",
       "      <td>20.57</td>\n",
       "      <td>17.77</td>\n",
       "      <td>132.90</td>\n",
       "      <td>1326.0</td>\n",
       "      <td>0.08474</td>\n",
       "      <td>0.07864</td>\n",
       "      <td>0.0869</td>\n",
       "      <td>0.07017</td>\n",
       "      <td>0.1812</td>\n",
       "      <td>0.05667</td>\n",
       "      <td>...</td>\n",
       "      <td>24.99</td>\n",
       "      <td>23.41</td>\n",
       "      <td>158.80</td>\n",
       "      <td>1956.0</td>\n",
       "      <td>0.1238</td>\n",
       "      <td>0.1866</td>\n",
       "      <td>0.2416</td>\n",
       "      <td>0.1860</td>\n",
       "      <td>0.2750</td>\n",
       "      <td>0.08902</td>\n",
       "    </tr>\n",
       "    <tr>\n",
       "      <th>2</th>\n",
       "      <td>19.69</td>\n",
       "      <td>21.25</td>\n",
       "      <td>130.00</td>\n",
       "      <td>1203.0</td>\n",
       "      <td>0.10960</td>\n",
       "      <td>0.15990</td>\n",
       "      <td>0.1974</td>\n",
       "      <td>0.12790</td>\n",
       "      <td>0.2069</td>\n",
       "      <td>0.05999</td>\n",
       "      <td>...</td>\n",
       "      <td>23.57</td>\n",
       "      <td>25.53</td>\n",
       "      <td>152.50</td>\n",
       "      <td>1709.0</td>\n",
       "      <td>0.1444</td>\n",
       "      <td>0.4245</td>\n",
       "      <td>0.4504</td>\n",
       "      <td>0.2430</td>\n",
       "      <td>0.3613</td>\n",
       "      <td>0.08758</td>\n",
       "    </tr>\n",
       "    <tr>\n",
       "      <th>3</th>\n",
       "      <td>11.42</td>\n",
       "      <td>20.38</td>\n",
       "      <td>77.58</td>\n",
       "      <td>386.1</td>\n",
       "      <td>0.14250</td>\n",
       "      <td>0.28390</td>\n",
       "      <td>0.2414</td>\n",
       "      <td>0.10520</td>\n",
       "      <td>0.2597</td>\n",
       "      <td>0.09744</td>\n",
       "      <td>...</td>\n",
       "      <td>14.91</td>\n",
       "      <td>26.50</td>\n",
       "      <td>98.87</td>\n",
       "      <td>567.7</td>\n",
       "      <td>0.2098</td>\n",
       "      <td>0.8663</td>\n",
       "      <td>0.6869</td>\n",
       "      <td>0.2575</td>\n",
       "      <td>0.6638</td>\n",
       "      <td>0.17300</td>\n",
       "    </tr>\n",
       "    <tr>\n",
       "      <th>4</th>\n",
       "      <td>20.29</td>\n",
       "      <td>14.34</td>\n",
       "      <td>135.10</td>\n",
       "      <td>1297.0</td>\n",
       "      <td>0.10030</td>\n",
       "      <td>0.13280</td>\n",
       "      <td>0.1980</td>\n",
       "      <td>0.10430</td>\n",
       "      <td>0.1809</td>\n",
       "      <td>0.05883</td>\n",
       "      <td>...</td>\n",
       "      <td>22.54</td>\n",
       "      <td>16.67</td>\n",
       "      <td>152.20</td>\n",
       "      <td>1575.0</td>\n",
       "      <td>0.1374</td>\n",
       "      <td>0.2050</td>\n",
       "      <td>0.4000</td>\n",
       "      <td>0.1625</td>\n",
       "      <td>0.2364</td>\n",
       "      <td>0.07678</td>\n",
       "    </tr>\n",
       "  </tbody>\n",
       "</table>\n",
       "<p>5 rows × 30 columns</p>\n",
       "</div>"
      ],
      "text/plain": [
       "    平均半径   平均纹理    平均周长    平均面积    平均光滑度    平均紧凑度    平均凹度     平均凹点    平均对称  \\\n",
       "0  17.99  10.38  122.80  1001.0  0.11840  0.27760  0.3001  0.14710  0.2419   \n",
       "1  20.57  17.77  132.90  1326.0  0.08474  0.07864  0.0869  0.07017  0.1812   \n",
       "2  19.69  21.25  130.00  1203.0  0.10960  0.15990  0.1974  0.12790  0.2069   \n",
       "3  11.42  20.38   77.58   386.1  0.14250  0.28390  0.2414  0.10520  0.2597   \n",
       "4  20.29  14.34  135.10  1297.0  0.10030  0.13280  0.1980  0.10430  0.1809   \n",
       "\n",
       "    平均分形维数  ...   最差半径   最差纹理   最差的边界   最差的区域  最差的平滑度  最差的紧凑性   最差的凹陷   最差的凹点  \\\n",
       "0  0.07871  ...  25.38  17.33  184.60  2019.0  0.1622  0.6656  0.7119  0.2654   \n",
       "1  0.05667  ...  24.99  23.41  158.80  1956.0  0.1238  0.1866  0.2416  0.1860   \n",
       "2  0.05999  ...  23.57  25.53  152.50  1709.0  0.1444  0.4245  0.4504  0.2430   \n",
       "3  0.09744  ...  14.91  26.50   98.87   567.7  0.2098  0.8663  0.6869  0.2575   \n",
       "4  0.05883  ...  22.54  16.67  152.20  1575.0  0.1374  0.2050  0.4000  0.1625   \n",
       "\n",
       "   最差的对称性  最差的分形维数  \n",
       "0  0.4601  0.11890  \n",
       "1  0.2750  0.08902  \n",
       "2  0.3613  0.08758  \n",
       "3  0.6638  0.17300  \n",
       "4  0.2364  0.07678  \n",
       "\n",
       "[5 rows x 30 columns]"
      ]
     },
     "execution_count": 25,
     "metadata": {},
     "output_type": "execute_result"
    },
    {
     "data": {
      "text/plain": [
       "0    0.0\n",
       "1    0.0\n",
       "2    0.0\n",
       "3    0.0\n",
       "4    0.0\n",
       "Name: 患病否, dtype: float64"
      ]
     },
     "execution_count": 25,
     "metadata": {},
     "output_type": "execute_result"
    }
   ],
   "source": [
    "X = table.iloc[:,:-1]\n",
    "y = table.iloc[:,-1]\n",
    "X.head()\n",
    "y.head()"
   ]
  },
  {
   "cell_type": "code",
   "execution_count": 27,
   "metadata": {},
   "outputs": [
    {
     "data": {
      "text/plain": [
       "0.9385964912280702"
      ]
     },
     "execution_count": 27,
     "metadata": {},
     "output_type": "execute_result"
    }
   ],
   "source": [
    "from sklearn.model_selection import train_test_split\n",
    "\n",
    "# 划分训练集和测试集\n",
    "# random_state 随机种子，类似于random.seed()\n",
    "Xtrain,Xtest,Ytrain,Ytest = train_test_split(X,y,test_size=0.2,random_state=420) \n",
    "\n",
    "clf = KNeighborsClassifier(n_neighbors=7)\n",
    "\n",
    "clf = clf.fit(Xtrain,Ytrain)\n",
    "\n",
    "score = clf.score(Xtest,Ytest)\n",
    "\n",
    "score"
   ]
  },
  {
   "cell_type": "markdown",
   "metadata": {},
   "source": [
    "### 绘制学习曲线"
   ]
  },
  {
   "cell_type": "code",
   "execution_count": 29,
   "metadata": {},
   "outputs": [
    {
     "data": {
      "text/plain": [
       "[<matplotlib.lines.Line2D at 0x7fd40c69fe20>]"
      ]
     },
     "execution_count": 29,
     "metadata": {},
     "output_type": "execute_result"
    },
    {
     "data": {
      "text/plain": [
       "([<matplotlib.axis.XTick at 0x7fd40dae54c0>,\n",
       "  <matplotlib.axis.XTick at 0x7fd40dae5340>,\n",
       "  <matplotlib.axis.XTick at 0x7fd40d9ba850>,\n",
       "  <matplotlib.axis.XTick at 0x7fd40be65b50>,\n",
       "  <matplotlib.axis.XTick at 0x7fd40c51a820>,\n",
       "  <matplotlib.axis.XTick at 0x7fd40cbe9640>,\n",
       "  <matplotlib.axis.XTick at 0x7fd40bdb04f0>,\n",
       "  <matplotlib.axis.XTick at 0x7fd40be827f0>,\n",
       "  <matplotlib.axis.XTick at 0x7fd40dc4a0a0>,\n",
       "  <matplotlib.axis.XTick at 0x7fd40c511220>,\n",
       "  <matplotlib.axis.XTick at 0x7fd40c869310>,\n",
       "  <matplotlib.axis.XTick at 0x7fd40cb6b400>,\n",
       "  <matplotlib.axis.XTick at 0x7fd40cb6b070>,\n",
       "  <matplotlib.axis.XTick at 0x7fd40da5cbe0>,\n",
       "  <matplotlib.axis.XTick at 0x7fd40be77310>,\n",
       "  <matplotlib.axis.XTick at 0x7fd409b22ac0>,\n",
       "  <matplotlib.axis.XTick at 0x7fd40c656c40>,\n",
       "  <matplotlib.axis.XTick at 0x7fd40c746310>,\n",
       "  <matplotlib.axis.XTick at 0x7fd40cb6b9d0>],\n",
       " [Text(0, 0, ''),\n",
       "  Text(0, 0, ''),\n",
       "  Text(0, 0, ''),\n",
       "  Text(0, 0, ''),\n",
       "  Text(0, 0, ''),\n",
       "  Text(0, 0, ''),\n",
       "  Text(0, 0, ''),\n",
       "  Text(0, 0, ''),\n",
       "  Text(0, 0, ''),\n",
       "  Text(0, 0, ''),\n",
       "  Text(0, 0, ''),\n",
       "  Text(0, 0, ''),\n",
       "  Text(0, 0, ''),\n",
       "  Text(0, 0, ''),\n",
       "  Text(0, 0, ''),\n",
       "  Text(0, 0, ''),\n",
       "  Text(0, 0, ''),\n",
       "  Text(0, 0, ''),\n",
       "  Text(0, 0, '')])"
      ]
     },
     "execution_count": 29,
     "metadata": {},
     "output_type": "execute_result"
    },
    {
     "data": {
      "image/png": "[encoded data removed]",
      "text/plain": [
       "<Figure size 432x288 with 1 Axes>"
      ]
     },
     "metadata": {},
     "output_type": "display_data"
    }
   ],
   "source": [
    "score = []\n",
    "\n",
    "k = range(1,20)\n",
    "\n",
    "for i in k:\n",
    "    clf = KNeighborsClassifier(n_neighbors=i)\n",
    "    clf = clf.fit(Xtrain,Ytrain)\n",
    "    score.append(clf.score(Xtest,Ytest))\n",
    "    \n",
    "plt.plot(k,score)\n",
    "plt.xticks(range(1,20))\n",
    "plt.show()"
   ]
  },
  {
   "cell_type": "raw",
   "metadata": {},
   "source": [
    "对于建模来讲：\n",
    "1.考虑评分（准确率）的问题 \n",
    "2.考虑稳定性的问题----取决于在不同的数据集都能得到稳定较高的分数"
   ]
  },
  {
   "cell_type": "markdown",
   "metadata": {},
   "source": [
    "### 带交叉验证的学习曲线"
   ]
  },
  {
   "cell_type": "markdown",
   "metadata": {},
   "source": [
    "#### 划分特征数据x与标签y"
   ]
  },
  {
   "cell_type": "code",
   "execution_count": 30,
   "metadata": {},
   "outputs": [],
   "source": [
    "X = table.iloc[:,:-1]\n",
    "y = table.iloc[:,-1]"
   ]
  },
  {
   "cell_type": "code",
   "execution_count": 44,
   "metadata": {},
   "outputs": [],
   "source": [
    "from sklearn.model_selection import train_test_split\n",
    "Xtrain,Xtest,Ytrain,Ytest = train_test_split(X,y,test_size=.2,random_state=150)"
   ]
  },
  {
   "cell_type": "markdown",
   "metadata": {},
   "source": [
    "#### 建模"
   ]
  },
  {
   "cell_type": "code",
   "execution_count": 52,
   "metadata": {},
   "outputs": [],
   "source": [
    "from sklearn.neighbors import KNeighborsClassifier\n",
    "from sklearn.model_selection import cross_val_score as CVS\n",
    "from sklearn.preprocessing import MinMaxScaler as mms"
   ]
  },
  {
   "cell_type": "code",
   "execution_count": 53,
   "metadata": {},
   "outputs": [
    {
     "data": {
      "text/plain": [
       "[<matplotlib.lines.Line2D at 0x7fd40c1ac130>]"
      ]
     },
     "execution_count": 53,
     "metadata": {},
     "output_type": "execute_result"
    },
    {
     "data": {
      "text/plain": [
       "[<matplotlib.lines.Line2D at 0x7fd40c40ed30>]"
      ]
     },
     "execution_count": 53,
     "metadata": {},
     "output_type": "execute_result"
    },
    {
     "data": {
      "text/plain": [
       "[<matplotlib.lines.Line2D at 0x7fd40caef220>]"
      ]
     },
     "execution_count": 53,
     "metadata": {},
     "output_type": "execute_result"
    },
    {
     "data": {
      "text/plain": [
       "([<matplotlib.axis.XTick at 0x7fd40e0e88e0>,\n",
       "  <matplotlib.axis.XTick at 0x7fd40d58e790>,\n",
       "  <matplotlib.axis.XTick at 0x7fd40caeb340>,\n",
       "  <matplotlib.axis.XTick at 0x7fd40d4cdc40>,\n",
       "  <matplotlib.axis.XTick at 0x7fd40c6f1f70>,\n",
       "  <matplotlib.axis.XTick at 0x7fd40e23db50>,\n",
       "  <matplotlib.axis.XTick at 0x7fd40bdc0dc0>,\n",
       "  <matplotlib.axis.XTick at 0x7fd40c711a30>,\n",
       "  <matplotlib.axis.XTick at 0x7fd40d560310>,\n",
       "  <matplotlib.axis.XTick at 0x7fd40dad4490>,\n",
       "  <matplotlib.axis.XTick at 0x7fd409b6c1f0>,\n",
       "  <matplotlib.axis.XTick at 0x7fd40c711130>,\n",
       "  <matplotlib.axis.XTick at 0x7fd40c6f49a0>,\n",
       "  <matplotlib.axis.XTick at 0x7fd409b6c6d0>,\n",
       "  <matplotlib.axis.XTick at 0x7fd4085f7a30>,\n",
       "  <matplotlib.axis.XTick at 0x7fd40c51f190>,\n",
       "  <matplotlib.axis.XTick at 0x7fd40e233130>,\n",
       "  <matplotlib.axis.XTick at 0x7fd40cafb250>,\n",
       "  <matplotlib.axis.XTick at 0x7fd40c660c40>],\n",
       " [Text(0, 0, ''),\n",
       "  Text(0, 0, ''),\n",
       "  Text(0, 0, ''),\n",
       "  Text(0, 0, ''),\n",
       "  Text(0, 0, ''),\n",
       "  Text(0, 0, ''),\n",
       "  Text(0, 0, ''),\n",
       "  Text(0, 0, ''),\n",
       "  Text(0, 0, ''),\n",
       "  Text(0, 0, ''),\n",
       "  Text(0, 0, ''),\n",
       "  Text(0, 0, ''),\n",
       "  Text(0, 0, ''),\n",
       "  Text(0, 0, ''),\n",
       "  Text(0, 0, ''),\n",
       "  Text(0, 0, ''),\n",
       "  Text(0, 0, ''),\n",
       "  Text(0, 0, ''),\n",
       "  Text(0, 0, '')])"
      ]
     },
     "execution_count": 53,
     "metadata": {},
     "output_type": "execute_result"
    },
    {
     "data": {
      "image/png": "[encoded data removed]",
      "text/plain": [
       "<Figure size 432x288 with 1 Axes>"
      ]
     },
     "metadata": {},
     "output_type": "display_data"
    }
   ],
   "source": [
    "# 归一化\n",
    "Xtrain = mms().fit(Xtrain).transform(Xtrain)\n",
    "Xtest = mms().fit(Xtest).transform(Xtest)\n",
    "\n",
    "mean = []\n",
    "var = []\n",
    "\n",
    "for i in range(1,20):\n",
    "    # K值不能设置过大，过小 --学习曲线可以找k\n",
    "    KNN = KNeighborsClassifier(n_neighbors=i)\n",
    "    # 交叉验证  折数不能过大、过小\n",
    "    result = CVS(KNN,Xtrain,Ytrain,cv=5) # 5折、6折，比较好\n",
    "    \n",
    "    mean.append(result.mean())\n",
    "    var.append(result.var())\n",
    "    \n",
    "mean = np.array(mean)\n",
    "var = np.array(var)\n",
    "\n",
    "plt.plot(range(1,20),mean,color='k')\n",
    "plt.plot(range(1,20),mean+var*5,color='r',linestyle='--')\n",
    "plt.plot(range(1,20),mean-var*5,color='r',linestyle='--')\n",
    "plt.xticks(range(1,20))\n",
    "plt.show()"
   ]
  },
  {
   "cell_type": "code",
   "execution_count": 46,
   "metadata": {},
   "outputs": [
    {
     "data": {
      "text/plain": [
       "0.956140350877193"
      ]
     },
     "execution_count": 46,
     "metadata": {},
     "output_type": "execute_result"
    }
   ],
   "source": [
    "KNN_K10 = KNeighborsClassifier(n_neighbors=14)\n",
    "clf_k10 = KNN_K10.fit(Xtrain,Ytrain)\n",
    "\n",
    "clf_k10.score(Xtest,Ytest)"
   ]
  },
  {
   "cell_type": "markdown",
   "metadata": {},
   "source": [
    "### 归一化（python实现）"
   ]
  },
  {
   "cell_type": "code",
   "execution_count": 51,
   "metadata": {},
   "outputs": [
    {
     "data": {
      "text/plain": [
       "0    0.00\n",
       "1    0.25\n",
       "2    0.50\n",
       "3    1.00\n",
       "Name: 0, dtype: float64"
      ]
     },
     "execution_count": 51,
     "metadata": {},
     "output_type": "execute_result"
    }
   ],
   "source": [
    "data = [[-1,2],[-0.5,6],[0,10],[1,18]]\n",
    "data_01 = pd.DataFrame(data).iloc[:,0]\n",
    "(data_01-np.min(data_01,axis=0))/(np.max(data_01,axis=0)-np.min(data_01,axis=0))"
   ]
  }
 ],
 "metadata": {
  "kernelspec": {
   "display_name": "Python 3",
   "language": "python",
   "name": "python3"
  },
  "language_info": {
   "codemirror_mode": {
    "name": "ipython",
    "version": 3
   },
   "file_extension": ".py",
   "mimetype": "text/x-python",
   "name": "python",
   "nbconvert_exporter": "python",
   "pygments_lexer": "ipython3",
   "version": "3.8.5"
  },
  "toc": {
   "base_numbering": 1,
   "nav_menu": {},
   "number_sections": true,
   "sideBar": true,
   "skip_h1_title": false,
   "title_cell": "Table of Contents",
   "title_sidebar": "Contents",
   "toc_cell": false,
   "toc_position": {
    "height": "calc(100% - 180px)",
    "left": "10px",
    "top": "150px",
    "width": "269.188px"
   },
   "toc_section_display": true,
   "toc_window_display": true
  },
  "varInspector": {
   "cols": {
    "lenName": 16,
    "lenType": 16,
    "lenVar": 40
   },
   "kernels_config": {
    "python": {
     "delete_cmd_postfix": "",
     "delete_cmd_prefix": "del ",
     "library": "var_list.py",
     "varRefreshCmd": "print(var_dic_list())"
    },
    "r": {
     "delete_cmd_postfix": ") ",
     "delete_cmd_prefix": "rm(",
     "library": "var_list.r",
     "varRefreshCmd": "cat(var_dic_list()) "
    }
   },
   "types_to_exclude": [
    "module",
    "function",
    "builtin_function_or_method",
    "instance",
    "_Feature"
   ],
   "window_display": false
  }
 },
 "nbformat": 4,
 "nbformat_minor": 5
}
